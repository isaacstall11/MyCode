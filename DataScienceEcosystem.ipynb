{
 "cells": [
  {
   "cell_type": "markdown",
   "id": "22835690-1a5a-4ebf-9f05-2b9d6440eb4b",
   "metadata": {},
   "source": [
    "# Data Science Tools and Ecosystem"
   ]
  },
  {
   "cell_type": "markdown",
   "id": "2301abfd-1033-4bd4-bb35-55e24e7ba767",
   "metadata": {},
   "source": [
    "In this notebook, Data Science Tools and Ecosystem are summarized."
   ]
  },
  {
   "cell_type": "markdown",
   "id": "99cfb5bb-486f-4134-9393-629022374a0b",
   "metadata": {},
   "source": [
    "Some of the popular languages that Data Scientists use are:\n",
    "1. Python\n",
    "2. R\n",
    "3. SQL\n",
    "4. C++"
   ]
  },
  {
   "cell_type": "markdown",
   "id": "f19d3364-21fe-4bf5-88d2-454b3c1f7fbf",
   "metadata": {},
   "source": [
    "Some of the commonly used libraries used by Data Scientists include:\n",
    "1. TensorFlow\n",
    "2. Pandas\n",
    "3. Matplotlib\n",
    "4. NumPy"
   ]
  },
  {
   "cell_type": "markdown",
   "id": "3d69c96b-8c73-43c7-83cc-311157fe8bbe",
   "metadata": {},
   "source": [
    "| Data Science Tools |\n",
    "|-----------|\n",
    "| Pycharm |\n",
    "| Anaconda | \n",
    "| RStudio |\n"
   ]
  },
  {
   "cell_type": "markdown",
   "id": "4cc38169-4438-4ee9-80e4-c4fd7214c31c",
   "metadata": {},
   "source": [
    "### Below are a few examples of evaluating arithmetic expressions in Python\n",
    "$$3+5=18$$\n",
    "$$17*10=170$$\n",
    "$$34/2=17$$"
   ]
  },
  {
   "cell_type": "code",
   "execution_count": 5,
   "id": "c4325ca6-c03a-42d5-9529-155bbd364377",
   "metadata": {
    "tags": []
   },
   "outputs": [
    {
     "data": {
      "text/plain": [
       "17"
      ]
     },
     "execution_count": 5,
     "metadata": {},
     "output_type": "execute_result"
    }
   ],
   "source": [
    "# This a simple arithmetic expression to mutiply then add integers.\n",
    "(3*4)+5"
   ]
  },
  {
   "cell_type": "code",
   "execution_count": 6,
   "id": "be309c6f-831f-436f-aff9-33aee2440a97",
   "metadata": {
    "tags": []
   },
   "outputs": [
    {
     "data": {
      "text/plain": [
       "3.3333333333333335"
      ]
     },
     "execution_count": 6,
     "metadata": {},
     "output_type": "execute_result"
    }
   ],
   "source": [
    "# This will convert 200 minutes to hours by dividing by 60\n",
    "200/60"
   ]
  },
  {
   "cell_type": "markdown",
   "id": "8cfc023b-6397-4df5-b17b-1fffbcd51de3",
   "metadata": {},
   "source": [
    "**Objectives:**\n",
    "\n",
    "- list popular data science languages\n",
    "- list commonly used data science libraries\n",
    "- show arithmetic expression to multiply then add integers\n",
    "- list some of the popular data science tools"
   ]
  },
  {
   "cell_type": "markdown",
   "id": "b37e555d-3e77-45fe-8f9b-63162c30eb1a",
   "metadata": {},
   "source": [
    "## Author\n",
    "Isaac Stall"
   ]
  }
 ],
 "metadata": {
  "kernelspec": {
   "display_name": "Python",
   "language": "python",
   "name": "conda-env-python-py"
  },
  "language_info": {
   "codemirror_mode": {
    "name": "ipython",
    "version": 3
   },
   "file_extension": ".py",
   "mimetype": "text/x-python",
   "name": "python",
   "nbconvert_exporter": "python",
   "pygments_lexer": "ipython3",
   "version": "3.7.12"
  }
 },
 "nbformat": 4,
 "nbformat_minor": 5
}
